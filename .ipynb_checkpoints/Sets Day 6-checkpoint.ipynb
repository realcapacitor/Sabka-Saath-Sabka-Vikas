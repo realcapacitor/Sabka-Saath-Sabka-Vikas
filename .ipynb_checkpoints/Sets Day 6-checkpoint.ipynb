{
 "cells": [
  {
   "cell_type": "code",
   "execution_count": null,
   "metadata": {},
   "outputs": [],
   "source": [
    "\"\"\"\n",
    "Syllabus\n",
    "*1. Introduction\n",
    "*2. Basic syntax, comments\n",
    "*3. Data types(string, tuple, dictionary, set, etc)\n",
    "*4. Operators\n",
    "5. type casting \n",
    "6. Conditional statements\n",
    "7. Loops\n",
    "8. Functions\n",
    "9. Arrays(operations on arrays)\n",
    "10. OOP\n",
    "11. Error handling\n",
    "12. File Handling\n",
    "13. Machine learning libraries(Jr Ith prynt pohachlo tr)\n",
    "\"\"\""
   ]
  },
  {
   "cell_type": "markdown",
   "metadata": {},
   "source": [
    "# Set"
   ]
  },
  {
   "cell_type": "markdown",
   "metadata": {},
   "source": [
    "Sets are used to store multiple items in a single variable.\n",
    "\n",
    "Set is one of 4 built-in data types in Python used to store collections of data, the other 3 are List, Tuple, and Dictionary, all with different qualities and usage.\n",
    "\n",
    "A set is a collection which is unordered, unchangeable*, and unindexed."
   ]
  },
  {
   "cell_type": "markdown",
   "metadata": {},
   "source": [
    "we declare sets in curly brackets{}."
   ]
  },
  {
   "cell_type": "code",
   "execution_count": 5,
   "metadata": {},
   "outputs": [],
   "source": [
    "a = {1, 3, 4, \"DM\", \"DM\"}"
   ]
  },
  {
   "cell_type": "code",
   "execution_count": 6,
   "metadata": {},
   "outputs": [
    {
     "data": {
      "text/plain": [
       "{1, 3, 4, 'DM'}"
      ]
     },
     "execution_count": 6,
     "metadata": {},
     "output_type": "execute_result"
    }
   ],
   "source": [
    "a"
   ]
  },
  {
   "cell_type": "markdown",
   "metadata": {},
   "source": [
    "### Set Items\n",
    "Set items are unordered, unchangeable, and do not allow duplicate values.\n",
    "\n",
    "### Unordered\n",
    "Unordered means that the items in a set do not have a defined order.\n",
    "\n",
    "Set items can appear in a different order every time you use them, and cannot be referred to by index or key.\n",
    "\n",
    "### Unchangeable\n",
    "Set items are unchangeable, meaning that we cannot change the items after the set has been created.\n",
    "\n",
    "Once a set is created, you cannot change its items, but you can remove items and add new items.\n",
    "\n",
    "### Duplicates Not Allowed\n",
    "Sets cannot have two items with the same value."
   ]
  },
  {
   "cell_type": "code",
   "execution_count": 3,
   "metadata": {},
   "outputs": [
    {
     "data": {
      "text/plain": [
       "set"
      ]
     },
     "execution_count": 3,
     "metadata": {},
     "output_type": "execute_result"
    }
   ],
   "source": [
    "type(a)"
   ]
  },
  {
   "cell_type": "markdown",
   "metadata": {},
   "source": [
    "### Get the Length of a Set\n",
    "To determine how many items a set has, use the len() method."
   ]
  },
  {
   "cell_type": "code",
   "execution_count": 7,
   "metadata": {},
   "outputs": [
    {
     "data": {
      "text/plain": [
       "4"
      ]
     },
     "execution_count": 7,
     "metadata": {},
     "output_type": "execute_result"
    }
   ],
   "source": [
    "len(a)"
   ]
  },
  {
   "cell_type": "markdown",
   "metadata": {},
   "source": [
    "### set() function\n",
    "we use set() to convert list or tuple into a set"
   ]
  },
  {
   "cell_type": "code",
   "execution_count": 10,
   "metadata": {},
   "outputs": [
    {
     "name": "stdout",
     "output_type": "stream",
     "text": [
      "<class 'list'>\n",
      "<class 'set'>\n"
     ]
    },
    {
     "data": {
      "text/plain": [
       "{12, 45, 56, 'Key'}"
      ]
     },
     "execution_count": 10,
     "metadata": {},
     "output_type": "execute_result"
    }
   ],
   "source": [
    "b = [12,45 ,56,'Key']\n",
    "print(type(b))\n",
    "c = set(b)\n",
    "print(type(c))\n",
    "c"
   ]
  },
  {
   "cell_type": "markdown",
   "metadata": {},
   "source": [
    "### Accessing elements\n",
    "As we know sets are unordered, which means we can not access elements of set using an index number\n",
    "but we can use for loop to print elements of the set.\n",
    "but as we know sets are unordered which means elements can occur in any order."
   ]
  },
  {
   "cell_type": "code",
   "execution_count": 11,
   "metadata": {},
   "outputs": [
    {
     "name": "stdout",
     "output_type": "stream",
     "text": [
      "56\n",
      "Key\n",
      "12\n",
      "45\n"
     ]
    }
   ],
   "source": [
    "for i in c:\n",
    "    print(i)"
   ]
  },
  {
   "cell_type": "code",
   "execution_count": 12,
   "metadata": {},
   "outputs": [
    {
     "data": {
      "text/plain": [
       "True"
      ]
     },
     "execution_count": 12,
     "metadata": {},
     "output_type": "execute_result"
    }
   ],
   "source": [
    "'Key' in c"
   ]
  },
  {
   "cell_type": "markdown",
   "metadata": {},
   "source": [
    "### Change Items\n",
    "Once a set is created, you cannot change its items, but you can add new items."
   ]
  },
  {
   "cell_type": "markdown",
   "metadata": {},
   "source": [
    "### Adding item to set\n",
    "for doing that we have two functions.\n",
    "#### 1. add()\n",
    "#### 2.update()"
   ]
  },
  {
   "cell_type": "code",
   "execution_count": 13,
   "metadata": {},
   "outputs": [],
   "source": [
    "c.add(\"Lock\")"
   ]
  },
  {
   "cell_type": "code",
   "execution_count": 14,
   "metadata": {},
   "outputs": [
    {
     "data": {
      "text/plain": [
       "{12, 45, 56, 'Key', 'Lock'}"
      ]
     },
     "execution_count": 14,
     "metadata": {},
     "output_type": "execute_result"
    }
   ],
   "source": [
    "c"
   ]
  },
  {
   "cell_type": "code",
   "execution_count": 15,
   "metadata": {},
   "outputs": [
    {
     "data": {
      "text/plain": [
       "{1, 3, 4, 'DM'}"
      ]
     },
     "execution_count": 15,
     "metadata": {},
     "output_type": "execute_result"
    }
   ],
   "source": [
    "a"
   ]
  },
  {
   "cell_type": "code",
   "execution_count": 16,
   "metadata": {},
   "outputs": [
    {
     "data": {
      "text/plain": [
       "{1, 12, 3, 4, 45, 56, 'DM', 'Key', 'Lock'}"
      ]
     },
     "execution_count": 16,
     "metadata": {},
     "output_type": "execute_result"
    }
   ],
   "source": [
    "#To add items from another set into the current set, use the update() method.\n",
    "c.update(a)\n",
    "c"
   ]
  },
  {
   "cell_type": "code",
   "execution_count": 17,
   "metadata": {},
   "outputs": [
    {
     "data": {
      "text/plain": [
       "{1, 12, 3, 4, 45, 56, 'DM', 'Key', 'Lock', 'Monday', 'Saturday', 'list'}"
      ]
     },
     "execution_count": 17,
     "metadata": {},
     "output_type": "execute_result"
    }
   ],
   "source": [
    "#updating set with list\n",
    "d = [\"list\", \"Monday\", \"Saturday\"]\n",
    "c.update(d)\n",
    "c"
   ]
  },
  {
   "cell_type": "markdown",
   "metadata": {},
   "source": [
    "### Remove Item\n",
    "To remove an item in a set, use the remove(), or the discard() method."
   ]
  },
  {
   "cell_type": "code",
   "execution_count": 19,
   "metadata": {},
   "outputs": [
    {
     "ename": "KeyError",
     "evalue": "'Lock'",
     "output_type": "error",
     "traceback": [
      "\u001b[0;31m---------------------------------------------------------------------------\u001b[0m",
      "\u001b[0;31mKeyError\u001b[0m                                  Traceback (most recent call last)",
      "\u001b[0;32m<ipython-input-19-626919638b9a>\u001b[0m in \u001b[0;36m<module>\u001b[0;34m\u001b[0m\n\u001b[1;32m      1\u001b[0m \u001b[0;31m#remove()\u001b[0m\u001b[0;34m\u001b[0m\u001b[0;34m\u001b[0m\u001b[0;34m\u001b[0m\u001b[0m\n\u001b[0;32m----> 2\u001b[0;31m \u001b[0mc\u001b[0m\u001b[0;34m.\u001b[0m\u001b[0mremove\u001b[0m\u001b[0;34m(\u001b[0m\u001b[0;34m'Lock'\u001b[0m\u001b[0;34m)\u001b[0m\u001b[0;34m\u001b[0m\u001b[0;34m\u001b[0m\u001b[0m\n\u001b[0m\u001b[1;32m      3\u001b[0m \u001b[0mc\u001b[0m\u001b[0;34m\u001b[0m\u001b[0;34m\u001b[0m\u001b[0m\n\u001b[1;32m      4\u001b[0m \u001b[0;31m#if the given item is not present in the set, python will throw an error.\u001b[0m\u001b[0;34m\u001b[0m\u001b[0;34m\u001b[0m\u001b[0;34m\u001b[0m\u001b[0m\n",
      "\u001b[0;31mKeyError\u001b[0m: 'Lock'"
     ]
    }
   ],
   "source": [
    "#remove()\n",
    "c.remove('Lock')\n",
    "c\n",
    "#if the given item is not present in the set, python will throw an error."
   ]
  },
  {
   "cell_type": "code",
   "execution_count": 23,
   "metadata": {},
   "outputs": [
    {
     "data": {
      "text/plain": [
       "{1, 12, 3, 4, 45, 56, 'DM', 'Monday', 'Saturday', 'list'}"
      ]
     },
     "execution_count": 23,
     "metadata": {},
     "output_type": "execute_result"
    }
   ],
   "source": [
    "#But not in case of discard\n",
    "c.discard('dfsfsdfdsf')\n",
    "c"
   ]
  },
  {
   "cell_type": "markdown",
   "metadata": {},
   "source": [
    "You can also use the pop() method to remove an item, but this method will remove the last item. Remember that sets are unordered, so you will not know what item that gets removed.\n",
    "\n",
    "The return value of the pop() method is the removed item."
   ]
  },
  {
   "cell_type": "markdown",
   "metadata": {},
   "source": [
    "The clear() method empties the set"
   ]
  },
  {
   "cell_type": "code",
   "execution_count": 24,
   "metadata": {},
   "outputs": [
    {
     "name": "stdout",
     "output_type": "stream",
     "text": [
      "{1, 3, 4, 'DM'}\n",
      "set()\n"
     ]
    }
   ],
   "source": [
    "print(a)\n",
    "a.clear()\n",
    "print(a)"
   ]
  },
  {
   "cell_type": "code",
   "execution_count": 25,
   "metadata": {},
   "outputs": [
    {
     "name": "stdout",
     "output_type": "stream",
     "text": [
      "{1, 2, 3, 4, 6}\n"
     ]
    },
    {
     "ename": "NameError",
     "evalue": "name 'e' is not defined",
     "output_type": "error",
     "traceback": [
      "\u001b[0;31m---------------------------------------------------------------------------\u001b[0m",
      "\u001b[0;31mNameError\u001b[0m                                 Traceback (most recent call last)",
      "\u001b[0;32m<ipython-input-25-1a51e5384e82>\u001b[0m in \u001b[0;36m<module>\u001b[0;34m\u001b[0m\n\u001b[1;32m      3\u001b[0m \u001b[0mprint\u001b[0m\u001b[0;34m(\u001b[0m\u001b[0me\u001b[0m\u001b[0;34m)\u001b[0m\u001b[0;34m\u001b[0m\u001b[0;34m\u001b[0m\u001b[0m\n\u001b[1;32m      4\u001b[0m \u001b[0;32mdel\u001b[0m \u001b[0me\u001b[0m\u001b[0;34m\u001b[0m\u001b[0;34m\u001b[0m\u001b[0m\n\u001b[0;32m----> 5\u001b[0;31m \u001b[0mprint\u001b[0m\u001b[0;34m(\u001b[0m\u001b[0me\u001b[0m\u001b[0;34m)\u001b[0m\u001b[0;34m\u001b[0m\u001b[0;34m\u001b[0m\u001b[0m\n\u001b[0m",
      "\u001b[0;31mNameError\u001b[0m: name 'e' is not defined"
     ]
    }
   ],
   "source": [
    "#The del keyword will delete the set completely\n",
    "e = {1,2,6,3, 4}\n",
    "print(e)\n",
    "del e\n",
    "print(e)"
   ]
  },
  {
   "cell_type": "code",
   "execution_count": 26,
   "metadata": {},
   "outputs": [],
   "source": [
    "del a\n",
    "del b"
   ]
  },
  {
   "cell_type": "markdown",
   "metadata": {},
   "source": [
    "### Join Two Sets\n",
    "There are several ways to join two or more sets in Python.\n",
    "\n",
    "You can use the union() method that returns a new set containing all items from both sets, or the update() method that inserts all the items from one set into another\n",
    "#####  Both union() and update() will exclude any duplicate items."
   ]
  },
  {
   "cell_type": "code",
   "execution_count": 31,
   "metadata": {},
   "outputs": [],
   "source": [
    "a = {1, 2, 3, 'z'}\n",
    "b = {'a', 'b', 'c', 'z', 777}"
   ]
  },
  {
   "cell_type": "code",
   "execution_count": 28,
   "metadata": {},
   "outputs": [
    {
     "data": {
      "text/plain": [
       "{1, 2, 3, 'a', 'b', 'c', 'z'}"
      ]
     },
     "execution_count": 28,
     "metadata": {},
     "output_type": "execute_result"
    }
   ],
   "source": [
    "#union()\n",
    "c = a.union(b)\n",
    "c"
   ]
  },
  {
   "cell_type": "code",
   "execution_count": 29,
   "metadata": {},
   "outputs": [
    {
     "data": {
      "text/plain": [
       "{1, 2, 3, 'a', 'b', 'c', 'z'}"
      ]
     },
     "execution_count": 29,
     "metadata": {},
     "output_type": "execute_result"
    }
   ],
   "source": [
    "#update()\n",
    "a.update(b)\n",
    "a"
   ]
  },
  {
   "cell_type": "code",
   "execution_count": 30,
   "metadata": {},
   "outputs": [
    {
     "name": "stdout",
     "output_type": "stream",
     "text": [
      "{1, 2, 3, 'z', 'a', 'c', 'b'}\n",
      "{'z', 'a', 'c', 'b'}\n"
     ]
    },
    {
     "data": {
      "text/plain": [
       "{'a', 'b', 'c', 'z'}"
      ]
     },
     "execution_count": 30,
     "metadata": {},
     "output_type": "execute_result"
    }
   ],
   "source": [
    "#There are some other functions also...\n",
    "#1.intersection()\n",
    "print(a)\n",
    "print(b)\n",
    "x =a.intersection(b)\n",
    "#Intersection function will print only those common elements from both sets.\n",
    "x"
   ]
  },
  {
   "cell_type": "code",
   "execution_count": 32,
   "metadata": {},
   "outputs": [
    {
     "name": "stdout",
     "output_type": "stream",
     "text": [
      "{'z', 1, 2, 3}\n",
      "{'z', 777, 'a', 'c', 'b'}\n"
     ]
    },
    {
     "data": {
      "text/plain": [
       "{1, 2, 3, 777, 'a', 'b', 'c'}"
      ]
     },
     "execution_count": 32,
     "metadata": {},
     "output_type": "execute_result"
    }
   ],
   "source": [
    "#The symmetric_difference() method will return a new set, that contains only the elements that \n",
    "#are NOT present in both sets(unique elements).\n",
    "print(a)\n",
    "print(b)\n",
    "d = a.symmetric_difference(b)\n",
    "d"
   ]
  },
  {
   "cell_type": "code",
   "execution_count": 33,
   "metadata": {},
   "outputs": [
    {
     "data": {
      "text/plain": [
       "'\\nadd()\\tAdds an element to the set\\nclear()\\tRemoves all the elements from the set\\ncopy()\\tReturns a copy of the set\\ndifference()\\tReturns a set containing the difference between two or more sets\\ndifference_update()\\tRemoves the items in this set that are also included in another, specified set\\ndiscard()\\tRemove the specified item\\nintersection()\\tReturns a set, that is the intersection of two other sets\\nintersection_update()\\tRemoves the items in this set that are not present in other, specified set(s)\\nisdisjoint()\\tReturns whether two sets have a intersection or not\\nissubset()\\tReturns whether another set contains this set or not\\nissuperset()\\tReturns whether this set contains another set or not\\npop()\\tRemoves an element from the set\\nremove()\\tRemoves the specified element\\nsymmetric_difference()\\tReturns a set with the symmetric differences of two sets\\nsymmetric_difference_update()\\tinserts the symmetric differences from this set and another\\nunion()\\tReturn a set containing the union of sets\\nupdate()\\tUpdate the set with the union of this set and others\\n'"
      ]
     },
     "execution_count": 33,
     "metadata": {},
     "output_type": "execute_result"
    }
   ],
   "source": [
    "\"\"\"\n",
    "add()\tAdds an element to the set\n",
    "clear()\tRemoves all the elements from the set\n",
    "copy()\tReturns a copy of the set\n",
    "difference()\tReturns a set containing the difference between two or more sets\n",
    "difference_update()\tRemoves the items in this set that are also included in another, specified set\n",
    "discard()\tRemove the specified item\n",
    "intersection()\tReturns a set, that is the intersection of two other sets\n",
    "intersection_update()\tRemoves the items in this set that are not present in other, specified set(s)\n",
    "isdisjoint()\tReturns whether two sets have a intersection or not\n",
    "issubset()\tReturns whether another set contains this set or not\n",
    "issuperset()\tReturns whether this set contains another set or not\n",
    "pop()\tRemoves an element from the set\n",
    "remove()\tRemoves the specified element\n",
    "symmetric_difference()\tReturns a set with the symmetric differences of two sets\n",
    "symmetric_difference_update()\tinserts the symmetric differences from this set and another\n",
    "union()\tReturn a set containing the union of sets\n",
    "update()\tUpdate the set with the union of this set and others\n",
    "\"\"\""
   ]
  },
  {
   "cell_type": "code",
   "execution_count": 35,
   "metadata": {},
   "outputs": [
    {
     "name": "stdout",
     "output_type": "stream",
     "text": [
      "{'z', 1, 2, 3}\n",
      "{'z', 777, 'a', 'c', 'b'}\n"
     ]
    },
    {
     "data": {
      "text/plain": [
       "False"
      ]
     },
     "execution_count": 35,
     "metadata": {},
     "output_type": "execute_result"
    }
   ],
   "source": [
    "print(a)\n",
    "print(b)\n",
    "a.isdisjoint(b)"
   ]
  },
  {
   "cell_type": "code",
   "execution_count": 42,
   "metadata": {},
   "outputs": [
    {
     "data": {
      "text/plain": [
       "{1, 2, 3, 'a', 'b', 'c', 'z'}"
      ]
     },
     "execution_count": 42,
     "metadata": {},
     "output_type": "execute_result"
    }
   ],
   "source": []
  },
  {
   "cell_type": "code",
   "execution_count": null,
   "metadata": {},
   "outputs": [],
   "source": []
  }
 ],
 "metadata": {
  "kernelspec": {
   "display_name": "Python 3",
   "language": "python",
   "name": "python3"
  },
  "language_info": {
   "codemirror_mode": {
    "name": "ipython",
    "version": 3
   },
   "file_extension": ".py",
   "mimetype": "text/x-python",
   "name": "python",
   "nbconvert_exporter": "python",
   "pygments_lexer": "ipython3",
   "version": "3.8.5"
  }
 },
 "nbformat": 4,
 "nbformat_minor": 4
}
