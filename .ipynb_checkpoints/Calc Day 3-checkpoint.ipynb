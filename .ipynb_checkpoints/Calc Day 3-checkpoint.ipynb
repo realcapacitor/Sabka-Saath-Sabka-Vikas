{
 "cells": [
  {
   "cell_type": "code",
   "execution_count": 1,
   "metadata": {},
   "outputs": [
    {
     "data": {
      "text/plain": [
       "'\\nSyllabus\\n*1. Introduction\\n*2. Basic syntax, comments\\n*3. Data types(string, tuple, dictionary, set, etc)\\n*4. Operators\\n5. type casting \\n6. Conditional statements\\n7. Loops\\n8. Functions\\n9. Arrays(operations on arrays)\\n10. OOP\\n11. Error handling\\n12. File Handling\\n13. Machine learning libraries(Jr Ith prynt pohachlo tr)\\n'"
      ]
     },
     "execution_count": 1,
     "metadata": {},
     "output_type": "execute_result"
    }
   ],
   "source": [
    "\"\"\"\n",
    "Syllabus\n",
    "*1. Introduction\n",
    "*2. Basic syntax, comments\n",
    "*3. Data types(string, tuple, dictionary, set, etc)\n",
    "*4. Operators\n",
    "5. type casting \n",
    "6. Conditional statements\n",
    "7. Loops\n",
    "8. Functions\n",
    "9. Arrays(operations on arrays)\n",
    "10. OOP\n",
    "11. Error handling\n",
    "12. File Handling\n",
    "13. Machine learning libraries(Jr Ith prynt pohachlo tr)\n",
    "\"\"\""
   ]
  },
  {
   "cell_type": "code",
   "execution_count": 2,
   "metadata": {},
   "outputs": [
    {
     "name": "stdout",
     "output_type": "stream",
     "text": [
      "Enter 1st number : 12\n",
      "Enter Operator : +\n",
      "Enter 2nd number : 5\n",
      "The result is 17.0\n",
      "Enter 1st number : 34\n",
      "Enter Operator : exit\n",
      "Enter 2nd number : 4\n"
     ]
    }
   ],
   "source": [
    "#Calculator that runs forever and asks to exit\n",
    "while 'a' == 'a' :\n",
    "    a = input(\"Enter 1st number : \")\n",
    "    o = input(\"Enter Operator : \")\n",
    "    b = input(\"Enter 2nd number : \")\n",
    "\n",
    "    if o == '+':\n",
    "        result = float(a) + float(b)\n",
    "    elif o == '-':\n",
    "        result = float(a) - float(b)\n",
    "    elif o == '*':\n",
    "        result = float(a) * float(b)\n",
    "    elif o == '/':\n",
    "        result = float(a) / float(b)\n",
    "    elif o == 'exit':\n",
    "        break\n",
    "    else:\n",
    "        result = \"Enter Valid Operator\"\n",
    "    print(\"The result is\", result)\n"
   ]
  },
  {
   "cell_type": "code",
   "execution_count": null,
   "metadata": {},
   "outputs": [
    {
     "name": "stdout",
     "output_type": "stream",
     "text": [
      "Enter exit to quit \n"
     ]
    }
   ],
   "source": [
    "while True:\n",
    "    print(\"Enter exit to quit \")\n",
    "    a = input(\"Enter 1st number: \")\n",
    "    o = input(\"Enter Operator : \")\n",
    "    b = input(\"Enter 2nd number : \")\n",
    "    if a=='exit' or o == 'exit' or b == 'exit':\n",
    "        break\n",
    "    if o == '+':\n",
    "        result = float(a) + float(b)\n",
    "    elif o == '-':\n",
    "        result = float(a) - float(b)\n",
    "    elif o == '*':\n",
    "        result = float(a) * float(b)\n",
    "    elif o == '/':\n",
    "        result = float(a) / float(b)\n",
    "    elif o == '//':\n",
    "        result = float(a) // float(b)\n",
    "    elif o == '%':\n",
    "        result = float(a) % float(b)\n",
    "    else:\n",
    "        result = \"Enter Valid Operator\"\n",
    "    print(\"The result is\", result,\"\\n\")\n"
   ]
  },
  {
   "cell_type": "code",
   "execution_count": 14,
   "metadata": {},
   "outputs": [
    {
     "name": "stdout",
     "output_type": "stream",
     "text": [
      "Calculator\n",
      "Enter 1st Number : 23\n",
      "Enter Operator : +\n",
      "Enter 2nd Number5\n",
      "The summation is 28.0\n"
     ]
    }
   ],
   "source": [
    "print(\"Calculator\")\n",
    "def Calc(a, o, b):\n",
    "    if o == '+':\n",
    "        return a + b\n",
    "    elif o == '-':\n",
    "        return a - b\n",
    "    elif o == '*':\n",
    "        return a * b\n",
    "    elif o == '/':\n",
    "        return a / b\n",
    "    else:\n",
    "        return \"Enter valid Operator\"\n",
    "a = float(input(\"Enter 1sr Number : \"))\n",
    "o = input(\"Enter Operator : \")\n",
    "b = float(input(\"Enter 2nd Number : \"))\n",
    "print(\"The result is\", Calc(a, o, b))"
   ]
  },
  {
   "cell_type": "code",
   "execution_count": 18,
   "metadata": {},
   "outputs": [
    {
     "name": "stdout",
     "output_type": "stream",
     "text": [
      "Calculator\n",
      "Enter 1st Number : 56\n",
      "Enter Operator : /\n",
      "Enter 2nd Number : 3\n",
      "The division is 18.666666666666668\n"
     ]
    }
   ],
   "source": [
    "print(\"Calculator\")\n",
    "def Calc(a, o, b):\n",
    "    if o == '+':\n",
    "        return a + b, 'summation'\n",
    "    elif o == '-':\n",
    "        return a - b, 'subtraction'\n",
    "    elif o == '*':\n",
    "        return a * b, 'multiplication'\n",
    "    elif o == '/':\n",
    "        return a / b, 'division'\n",
    "    else:\n",
    "        return \"Enter valid Operator\"\n",
    "a = float(input(\"Enter 1st Number : \"))\n",
    "o = input(\"Enter Operator : \")\n",
    "b = float(input(\"Enter 2nd Number : \"))\n",
    "c, d = Calc(a, o, b)\n",
    "print(\"The\",d,\"is\",c)\n"
   ]
  },
  {
   "cell_type": "code",
   "execution_count": null,
   "metadata": {},
   "outputs": [],
   "source": []
  }
 ],
 "metadata": {
  "kernelspec": {
   "display_name": "Python 3",
   "language": "python",
   "name": "python3"
  },
  "language_info": {
   "codemirror_mode": {
    "name": "ipython",
    "version": 3
   },
   "file_extension": ".py",
   "mimetype": "text/x-python",
   "name": "python",
   "nbconvert_exporter": "python",
   "pygments_lexer": "ipython3",
   "version": "3.8.5"
  }
 },
 "nbformat": 4,
 "nbformat_minor": 4
}
