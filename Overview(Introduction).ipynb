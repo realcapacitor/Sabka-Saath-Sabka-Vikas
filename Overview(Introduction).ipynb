{
 "cells": [
  {
   "cell_type": "markdown",
   "metadata": {},
   "source": [
    "# Python\n",
    "## Overview"
   ]
  },
  {
   "cell_type": "code",
   "execution_count": null,
   "metadata": {},
   "outputs": [],
   "source": [
    "\"\"\"\n",
    "Syllabus\n",
    "1. Introduction\n",
    "2. Basic syntax, comments\n",
    "3. Data types(string, tuple, dictionary, set)\n",
    "4. Operators\n",
    "5. type casting \n",
    "6. Conditional statements\n",
    "7. Loops\n",
    "8. Functions\n",
    "9. Arrays(operations on arrays)\n",
    "10. OOP\n",
    "11. Error handling\n",
    "12. File Handling\n",
    "13. Machine learning libraries(Jr Ith prynt pohachlo tr)\n",
    "\"\"\""
   ]
  },
  {
   "cell_type": "markdown",
   "metadata": {},
   "source": [
    "# Introduction"
   ]
  },
  {
   "cell_type": "code",
   "execution_count": null,
   "metadata": {},
   "outputs": [],
   "source": [
    "# Python is an interpreted high-level general-purpose programming language. \n",
    "# Its design philosophy emphasizes code readability with its use of significant indentation. \n",
    "# Its language constructs as well as its object-oriented approach aim to help programmers write clear, \n",
    "# logical code for small and large-scale projects."
   ]
  },
  {
   "cell_type": "markdown",
   "metadata": {},
   "source": [
    "# Compiled\n",
    "means we need to compile a source code file in order to run it. After compiling a source file we get a binary code\n",
    "file which we can run directly, like any app\n",
    "c, c++ and java. \n",
    "## c\n",
    "##### gcc Hello.c -o helloc\n",
    "## c++\n",
    "##### g++ Hello.cpp -o Hellocpp\n",
    "## java\n",
    "##### javac Main.java\n",
    "##### java Main"
   ]
  },
  {
   "cell_type": "markdown",
   "metadata": {},
   "source": [
    "# Interpreted\n",
    "means the code written in source file (ie .py) can be run without compiling unlike\n",
    "c, c++, java etc.\n",
    "It runs line by line.\n",
    "This makes Python a slow language compared to other compiled languages like c, cpp, java.\n",
    "But Now a days we have so much high computaion power and fast computers so it doesn't matter anymore.\n",
    "\n",
    "## python\n",
    "python hello.py"
   ]
  },
  {
   "cell_type": "markdown",
   "metadata": {},
   "source": [
    "# Basic functions \n",
    "Just like any other languages we have function in python also\n",
    "every function has parenthesis at the end.\n",
    "like\n",
    "#### print() : is used to print on the screen or terminal\n",
    "#### type() : returns data type of the variable"
   ]
  },
  {
   "cell_type": "markdown",
   "metadata": {},
   "source": [
    "# Indentation in Python\n",
    "Just like any other language we have to use indentation in python also\n",
    "#### In c, cpp, java we use { } as indentation\n",
    "but in python we use 4 white spaces (or a tab space) as a indentation like, \n"
   ]
  },
  {
   "cell_type": "code",
   "execution_count": null,
   "metadata": {},
   "outputs": [],
   "source": [
    "if(True):\n",
    "    print(\"Yes\")"
   ]
  },
  {
   "cell_type": "markdown",
   "metadata": {},
   "source": [
    "# Hello World program\n",
    "to print hello world on the screen, we use print() function as,"
   ]
  },
  {
   "cell_type": "code",
   "execution_count": 1,
   "metadata": {},
   "outputs": [
    {
     "name": "stdout",
     "output_type": "stream",
     "text": [
      "Hello World\n"
     ]
    }
   ],
   "source": [
    "print(\"Hello World\")"
   ]
  },
  {
   "cell_type": "markdown",
   "metadata": {},
   "source": [
    "# Variables\n",
    "There are some rules to declare variables. like the name of the variable should not be a reserved word,\n",
    "A variable name must start with a letter or the underscore character\n",
    "A variable name cannot start with a number\n",
    "A variable name can only contain alpha-numeric characters and underscores (A-z, 0-9, and _ )\n",
    "Variable names are case-sensitive (age, Age and AGE are three different variables)\n"
   ]
  },
  {
   "cell_type": "markdown",
   "metadata": {},
   "source": [
    "Unlike c, cpp, java When a variable is declared you should first an value to it. In python we dont need to \n",
    "declare data type to a variable like in other languages. Python automatically detect it."
   ]
  },
  {
   "cell_type": "code",
   "execution_count": 4,
   "metadata": {},
   "outputs": [],
   "source": [
    "a = 10\n",
    "b = 12.5\n",
    "c = \"Python\""
   ]
  },
  {
   "cell_type": "code",
   "execution_count": 7,
   "metadata": {},
   "outputs": [
    {
     "data": {
      "text/plain": [
       "float"
      ]
     },
     "execution_count": 7,
     "metadata": {},
     "output_type": "execute_result"
    }
   ],
   "source": [
    "type(b)"
   ]
  },
  {
   "cell_type": "markdown",
   "metadata": {},
   "source": [
    "## Assigning multiple values\n",
    "#### In a single line\n",
    "a=b=c=\"Hello\""
   ]
  },
  {
   "cell_type": "code",
   "execution_count": 8,
   "metadata": {},
   "outputs": [],
   "source": [
    "a=b=c=\"HEllo\""
   ]
  },
  {
   "cell_type": "code",
   "execution_count": 11,
   "metadata": {},
   "outputs": [
    {
     "data": {
      "text/plain": [
       "'HEllo'"
      ]
     },
     "execution_count": 11,
     "metadata": {},
     "output_type": "execute_result"
    }
   ],
   "source": [
    "a"
   ]
  },
  {
   "cell_type": "markdown",
   "metadata": {},
   "source": [
    "# Printing a variable\n",
    "We generally use print() fucntion to print any variable.\n",
    "ex"
   ]
  },
  {
   "cell_type": "code",
   "execution_count": 4,
   "metadata": {},
   "outputs": [],
   "source": [
    "a = \"Hello\"\n",
    "b = \"World\""
   ]
  },
  {
   "cell_type": "code",
   "execution_count": 5,
   "metadata": {},
   "outputs": [
    {
     "name": "stdout",
     "output_type": "stream",
     "text": [
      "Hello\n",
      "World\n"
     ]
    }
   ],
   "source": [
    "print(a)\n",
    "print(b)"
   ]
  },
  {
   "cell_type": "code",
   "execution_count": 6,
   "metadata": {},
   "outputs": [
    {
     "name": "stdout",
     "output_type": "stream",
     "text": [
      "a isHello\n",
      "b isWorld\n"
     ]
    }
   ],
   "source": [
    "#We can print variables\n",
    "#Like in java\n",
    "print(\"a is\"+a) # a is+Hello = a isHello\n",
    "print(\"b is\"+b)"
   ]
  },
  {
   "cell_type": "code",
   "execution_count": 7,
   "metadata": {},
   "outputs": [
    {
     "name": "stdout",
     "output_type": "stream",
     "text": [
      "a is Hello\n",
      "b is World\n"
     ]
    }
   ],
   "source": [
    "# Or like c cpp\n",
    "print(\"a is\",a) # a is,a = a is Hello\n",
    "print(\"b is\",b)"
   ]
  },
  {
   "cell_type": "markdown",
   "metadata": {},
   "source": [
    "We can add two variables with similar data types. like str + str, int + float"
   ]
  },
  {
   "cell_type": "code",
   "execution_count": 8,
   "metadata": {},
   "outputs": [
    {
     "name": "stdout",
     "output_type": "stream",
     "text": [
      "HelloWorld\n"
     ]
    }
   ],
   "source": [
    "print(a+b)"
   ]
  },
  {
   "cell_type": "code",
   "execution_count": 9,
   "metadata": {},
   "outputs": [
    {
     "name": "stdout",
     "output_type": "stream",
     "text": [
      "Hello World\n"
     ]
    }
   ],
   "source": [
    "print(a,b)"
   ]
  },
  {
   "cell_type": "code",
   "execution_count": 10,
   "metadata": {},
   "outputs": [],
   "source": [
    "c = 12\n",
    "d = 12.5"
   ]
  },
  {
   "cell_type": "code",
   "execution_count": 13,
   "metadata": {},
   "outputs": [
    {
     "name": "stdout",
     "output_type": "stream",
     "text": [
      "24.5\n"
     ]
    }
   ],
   "source": [
    "print(c+d)"
   ]
  },
  {
   "cell_type": "markdown",
   "metadata": {},
   "source": [
    "But when we try to add two varibles with different data type it will give an error\n"
   ]
  },
  {
   "cell_type": "code",
   "execution_count": 15,
   "metadata": {},
   "outputs": [
    {
     "ename": "TypeError",
     "evalue": "can only concatenate str (not \"int\") to str",
     "output_type": "error",
     "traceback": [
      "\u001b[0;31m---------------------------------------------------------------------------\u001b[0m",
      "\u001b[0;31mTypeError\u001b[0m                                 Traceback (most recent call last)",
      "\u001b[0;32m<ipython-input-15-29620a3af8d7>\u001b[0m in \u001b[0;36m<module>\u001b[0;34m\u001b[0m\n\u001b[0;32m----> 1\u001b[0;31m \u001b[0mprint\u001b[0m\u001b[0;34m(\u001b[0m\u001b[0ma\u001b[0m\u001b[0;34m+\u001b[0m\u001b[0mc\u001b[0m\u001b[0;34m)\u001b[0m\u001b[0;34m\u001b[0m\u001b[0;34m\u001b[0m\u001b[0m\n\u001b[0m",
      "\u001b[0;31mTypeError\u001b[0m: can only concatenate str (not \"int\") to str"
     ]
    }
   ],
   "source": [
    "print(a+c)"
   ]
  },
  {
   "cell_type": "markdown",
   "metadata": {},
   "source": [
    "https://www.w3schools.com/python/exercise.asp?filename=exercise_variables1"
   ]
  },
  {
   "cell_type": "code",
   "execution_count": null,
   "metadata": {},
   "outputs": [],
   "source": []
  }
 ],
 "metadata": {
  "kernelspec": {
   "display_name": "Python 3",
   "language": "python",
   "name": "python3"
  },
  "language_info": {
   "codemirror_mode": {
    "name": "ipython",
    "version": 3
   },
   "file_extension": ".py",
   "mimetype": "text/x-python",
   "name": "python",
   "nbconvert_exporter": "python",
   "pygments_lexer": "ipython3",
   "version": "3.8.5"
  }
 },
 "nbformat": 4,
 "nbformat_minor": 4
}
