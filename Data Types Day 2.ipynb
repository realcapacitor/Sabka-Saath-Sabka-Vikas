{
 "cells": [
  {
   "cell_type": "code",
   "execution_count": 24,
   "id": "b09936e4",
   "metadata": {},
   "outputs": [],
   "source": [
    "import sys"
   ]
  },
  {
   "cell_type": "markdown",
   "id": "22ca06ee",
   "metadata": {},
   "source": [
    "# Data types"
   ]
  },
  {
   "cell_type": "code",
   "execution_count": 59,
   "id": "1c7c633d",
   "metadata": {},
   "outputs": [
    {
     "data": {
      "text/plain": [
       "'\\nSyllabus\\n*1. Introduction\\n*2. Basic syntax, comments\\n*3. Data types(string, tuple, dictionary, set, etc)\\n4. Operators\\n5. type casting \\n6. Conditional statements\\n7. Loops\\n8. Functions\\n9. Arrays(operations on arrays)\\n10. OOP\\n11. Error handling\\n12. File Handling\\n13. Machine learning libraries(Jr Ith prynt pohachlo tr)\\n'"
      ]
     },
     "execution_count": 59,
     "metadata": {},
     "output_type": "execute_result"
    }
   ],
   "source": [
    "\"\"\"\n",
    "Syllabus\n",
    "*1. Introduction\n",
    "*2. Basic syntax, comments\n",
    "*3. Data types(string, tuple, dictionary, set, etc)\n",
    "4. Operators\n",
    "5. type casting \n",
    "6. Conditional statements\n",
    "7. Loops\n",
    "8. Functions\n",
    "9. Arrays(operations on arrays)\n",
    "10. OOP\n",
    "11. Error handling\n",
    "12. File Handling\n",
    "13. Machine learning libraries(Jr Ith prynt pohachlo tr)\n",
    "\"\"\""
   ]
  },
  {
   "cell_type": "markdown",
   "id": "2893f648",
   "metadata": {},
   "source": [
    "## Data types\n",
    "#### Lets classify data types into 3 main data types.\n",
    "#### 1.Numeber(Including int, float, etc)\n",
    "#### 2.String\n",
    "#### 3.Lists(lists, sets, dictionaries, tuples, etc)"
   ]
  },
  {
   "cell_type": "markdown",
   "id": "880168da",
   "metadata": {},
   "source": [
    "## Numbers:\n",
    "In python we have only two data types for storing numbers unlike other languages for simplicity, like we have int to store integers numbers like 1,2,3,4,5 , we have float data type to store floating point numebers like 1.2, 4.5, 2323.5 and another one which nobody asks or cares about is complex numbers 1+5j\n",
    "##### in python we don't need to declare data type before varible name."
   ]
  },
  {
   "cell_type": "code",
   "execution_count": 145,
   "id": "543291d6",
   "metadata": {},
   "outputs": [],
   "source": [
    "#int\n",
    "a = 12"
   ]
  },
  {
   "cell_type": "code",
   "execution_count": 146,
   "id": "794cacba",
   "metadata": {},
   "outputs": [
    {
     "data": {
      "text/plain": [
       "12"
      ]
     },
     "execution_count": 146,
     "metadata": {},
     "output_type": "execute_result"
    }
   ],
   "source": [
    "a"
   ]
  },
  {
   "cell_type": "code",
   "execution_count": 147,
   "id": "b043b68a",
   "metadata": {},
   "outputs": [
    {
     "data": {
      "text/plain": [
       "int"
      ]
     },
     "execution_count": 147,
     "metadata": {},
     "output_type": "execute_result"
    }
   ],
   "source": [
    "type(a)"
   ]
  },
  {
   "cell_type": "code",
   "execution_count": 148,
   "id": "7543dc38",
   "metadata": {},
   "outputs": [],
   "source": [
    "b = 12.5"
   ]
  },
  {
   "cell_type": "code",
   "execution_count": 149,
   "id": "94ab6adf",
   "metadata": {},
   "outputs": [
    {
     "data": {
      "text/plain": [
       "12.5"
      ]
     },
     "execution_count": 149,
     "metadata": {},
     "output_type": "execute_result"
    }
   ],
   "source": [
    "b"
   ]
  },
  {
   "cell_type": "code",
   "execution_count": 150,
   "id": "2af02aaa",
   "metadata": {},
   "outputs": [
    {
     "data": {
      "text/plain": [
       "float"
      ]
     },
     "execution_count": 150,
     "metadata": {},
     "output_type": "execute_result"
    }
   ],
   "source": [
    "type(b)"
   ]
  },
  {
   "cell_type": "code",
   "execution_count": 165,
   "id": "7990af53",
   "metadata": {},
   "outputs": [],
   "source": [
    "c = 12 + 5j"
   ]
  },
  {
   "cell_type": "code",
   "execution_count": 166,
   "id": "5869ec66",
   "metadata": {},
   "outputs": [
    {
     "data": {
      "text/plain": [
       "(12+5j)"
      ]
     },
     "execution_count": 166,
     "metadata": {},
     "output_type": "execute_result"
    }
   ],
   "source": [
    "c"
   ]
  },
  {
   "cell_type": "code",
   "execution_count": 158,
   "id": "5723e5f1",
   "metadata": {},
   "outputs": [
    {
     "data": {
      "text/plain": [
       "complex"
      ]
     },
     "execution_count": 158,
     "metadata": {},
     "output_type": "execute_result"
    }
   ],
   "source": [
    "type(c)"
   ]
  },
  {
   "cell_type": "code",
   "execution_count": 160,
   "id": "32036481",
   "metadata": {},
   "outputs": [
    {
     "data": {
      "text/plain": [
       "(17+7j)"
      ]
     },
     "execution_count": 160,
     "metadata": {},
     "output_type": "execute_result"
    }
   ],
   "source": [
    "d = 5 +2j\n",
    "c + d"
   ]
  },
  {
   "cell_type": "markdown",
   "id": "9389a266",
   "metadata": {},
   "source": [
    "## More numbering systems \n",
    "##### Binary number system(bin())\n",
    "##### Octal number system(oct())\n",
    "##### Hexadecimal number system(hex())"
   ]
  },
  {
   "cell_type": "code",
   "execution_count": 168,
   "id": "a2b2bc02",
   "metadata": {},
   "outputs": [],
   "source": [
    "c = 45"
   ]
  },
  {
   "cell_type": "code",
   "execution_count": 169,
   "id": "9d8de906",
   "metadata": {},
   "outputs": [
    {
     "data": {
      "text/plain": [
       "'0b101101'"
      ]
     },
     "execution_count": 169,
     "metadata": {},
     "output_type": "execute_result"
    }
   ],
   "source": [
    "bin(c)"
   ]
  },
  {
   "cell_type": "code",
   "execution_count": 170,
   "id": "e189510d",
   "metadata": {},
   "outputs": [
    {
     "data": {
      "text/plain": [
       "'0o55'"
      ]
     },
     "execution_count": 170,
     "metadata": {},
     "output_type": "execute_result"
    }
   ],
   "source": [
    "oct(c)"
   ]
  },
  {
   "cell_type": "code",
   "execution_count": 171,
   "id": "ba05e51a",
   "metadata": {},
   "outputs": [
    {
     "data": {
      "text/plain": [
       "'0x2d'"
      ]
     },
     "execution_count": 171,
     "metadata": {},
     "output_type": "execute_result"
    }
   ],
   "source": [
    "hex(c)"
   ]
  },
  {
   "cell_type": "markdown",
   "id": "1a4e9c8c",
   "metadata": {},
   "source": [
    "## What if...\n",
    "##### I want to write a number as a binary, octal or hexadecimal itself in the variable?\n",
    "##### to do that we have to write numbers in a specific format"
   ]
  },
  {
   "cell_type": "code",
   "execution_count": 172,
   "id": "3e0d2325",
   "metadata": {},
   "outputs": [],
   "source": [
    "#bin\n",
    "d = 0b1010"
   ]
  },
  {
   "cell_type": "code",
   "execution_count": 179,
   "id": "4564b15e",
   "metadata": {},
   "outputs": [
    {
     "data": {
      "text/plain": [
       "10"
      ]
     },
     "execution_count": 179,
     "metadata": {},
     "output_type": "execute_result"
    }
   ],
   "source": [
    "d"
   ]
  },
  {
   "cell_type": "code",
   "execution_count": 180,
   "id": "90b4cde9",
   "metadata": {},
   "outputs": [],
   "source": [
    "#oct\n",
    "e = 0o17"
   ]
  },
  {
   "cell_type": "code",
   "execution_count": 182,
   "id": "bc9efd19",
   "metadata": {},
   "outputs": [
    {
     "data": {
      "text/plain": [
       "15"
      ]
     },
     "execution_count": 182,
     "metadata": {},
     "output_type": "execute_result"
    }
   ],
   "source": [
    "e"
   ]
  },
  {
   "cell_type": "code",
   "execution_count": 186,
   "id": "058966f7",
   "metadata": {},
   "outputs": [],
   "source": [
    "#hex\n",
    "f = 0x12a"
   ]
  },
  {
   "cell_type": "code",
   "execution_count": 188,
   "id": "44949fc4",
   "metadata": {},
   "outputs": [
    {
     "data": {
      "text/plain": [
       "298"
      ]
     },
     "execution_count": 188,
     "metadata": {},
     "output_type": "execute_result"
    }
   ],
   "source": [
    "f"
   ]
  },
  {
   "cell_type": "markdown",
   "id": "411e44a3",
   "metadata": {},
   "source": [
    "##### We can perform operations over them like..."
   ]
  },
  {
   "cell_type": "code",
   "execution_count": 192,
   "id": "4b6d7ac9",
   "metadata": {},
   "outputs": [
    {
     "data": {
      "text/plain": [
       "323"
      ]
     },
     "execution_count": 192,
     "metadata": {},
     "output_type": "execute_result"
    }
   ],
   "source": [
    "d + e + f"
   ]
  },
  {
   "cell_type": "markdown",
   "id": "2c2b0625",
   "metadata": {},
   "source": [
    "## Strings\n",
    "##### In python theres no char data type, we have string data type.\n",
    "##### We can assign a string literal to a variable using single or double quotes"
   ]
  },
  {
   "cell_type": "code",
   "execution_count": 193,
   "id": "c9b550f4",
   "metadata": {},
   "outputs": [],
   "source": [
    "g = \"Python\""
   ]
  },
  {
   "cell_type": "code",
   "execution_count": 194,
   "id": "946af10c",
   "metadata": {},
   "outputs": [],
   "source": [
    "h = 'Programming'"
   ]
  },
  {
   "cell_type": "markdown",
   "id": "8847dbfd",
   "metadata": {},
   "source": [
    "##### In python string is large library, we have many functions for it, we can perform operations on a string, we can use slicing operation on string, there are many things to do with it..."
   ]
  },
  {
   "cell_type": "markdown",
   "id": "c74e1785",
   "metadata": {},
   "source": [
    "##### Concatenaton(+)"
   ]
  },
  {
   "cell_type": "code",
   "execution_count": 198,
   "id": "d3da55f2",
   "metadata": {},
   "outputs": [
    {
     "data": {
      "text/plain": [
       "'PythonProgramming'"
      ]
     },
     "execution_count": 198,
     "metadata": {},
     "output_type": "execute_result"
    }
   ],
   "source": [
    "g+h"
   ]
  },
  {
   "cell_type": "markdown",
   "id": "9ffaf6dd",
   "metadata": {},
   "source": [
    "##### Multiplication of string"
   ]
  },
  {
   "cell_type": "code",
   "execution_count": 201,
   "id": "1869f375",
   "metadata": {},
   "outputs": [
    {
     "data": {
      "text/plain": [
       "'PythonPythonPython'"
      ]
     },
     "execution_count": 201,
     "metadata": {},
     "output_type": "execute_result"
    }
   ],
   "source": [
    "3*g"
   ]
  },
  {
   "cell_type": "markdown",
   "id": "2d90aee7",
   "metadata": {},
   "source": [
    "##### Indexing\n",
    "##### Indexing in python starts from zero, which means first character of any string or list is at index zero"
   ]
  },
  {
   "cell_type": "code",
   "execution_count": 208,
   "id": "f4e92e5c",
   "metadata": {},
   "outputs": [
    {
     "data": {
      "text/plain": [
       "'P'"
      ]
     },
     "execution_count": 208,
     "metadata": {},
     "output_type": "execute_result"
    }
   ],
   "source": [
    "g[0]"
   ]
  },
  {
   "cell_type": "markdown",
   "id": "9b5e46d2",
   "metadata": {},
   "source": [
    "##### g = \"Python\"\n",
    "##### P y t h o n\n",
    "##### 0 1 2 3 4 5"
   ]
  },
  {
   "cell_type": "code",
   "execution_count": 262,
   "id": "85aaf8b0",
   "metadata": {},
   "outputs": [
    {
     "data": {
      "text/plain": [
       "'t'"
      ]
     },
     "execution_count": 262,
     "metadata": {},
     "output_type": "execute_result"
    }
   ],
   "source": [
    "g[2]"
   ]
  },
  {
   "cell_type": "code",
   "execution_count": 224,
   "id": "fb37a24e",
   "metadata": {},
   "outputs": [
    {
     "data": {
      "text/plain": [
       "'o'"
      ]
     },
     "execution_count": 224,
     "metadata": {},
     "output_type": "execute_result"
    }
   ],
   "source": [
    "g[4]"
   ]
  },
  {
   "cell_type": "code",
   "execution_count": 225,
   "id": "5fe197ee",
   "metadata": {},
   "outputs": [
    {
     "ename": "IndexError",
     "evalue": "string index out of range",
     "output_type": "error",
     "traceback": [
      "\u001b[1;31m---------------------------------------------------------------------------\u001b[0m",
      "\u001b[1;31mIndexError\u001b[0m                                Traceback (most recent call last)",
      "\u001b[1;32m<ipython-input-225-f03d33f47838>\u001b[0m in \u001b[0;36m<module>\u001b[1;34m\u001b[0m\n\u001b[1;32m----> 1\u001b[1;33m \u001b[0mg\u001b[0m\u001b[1;33m[\u001b[0m\u001b[1;36m6\u001b[0m\u001b[1;33m]\u001b[0m\u001b[1;33m\u001b[0m\u001b[1;33m\u001b[0m\u001b[0m\n\u001b[0m",
      "\u001b[1;31mIndexError\u001b[0m: string index out of range"
     ]
    }
   ],
   "source": [
    "g[6]"
   ]
  },
  {
   "cell_type": "markdown",
   "id": "2a260dec",
   "metadata": {},
   "source": [
    "##### Slicing \n",
    "##### We can slice the string into its parts based on its indices.\n",
    "##### For slicing we use square brackets, idecies in it separate by colon\n",
    "##### g[start: end: step]\n",
    "#### Imp: End index is always exclusive"
   ]
  },
  {
   "cell_type": "code",
   "execution_count": 226,
   "id": "af1742d4",
   "metadata": {},
   "outputs": [
    {
     "data": {
      "text/plain": [
       "'Python'"
      ]
     },
     "execution_count": 226,
     "metadata": {},
     "output_type": "execute_result"
    }
   ],
   "source": [
    "g"
   ]
  },
  {
   "cell_type": "code",
   "execution_count": 228,
   "id": "c45fbdec",
   "metadata": {},
   "outputs": [
    {
     "data": {
      "text/plain": [
       "'Python'"
      ]
     },
     "execution_count": 228,
     "metadata": {},
     "output_type": "execute_result"
    }
   ],
   "source": [
    "g[0:6:1]"
   ]
  },
  {
   "cell_type": "code",
   "execution_count": 230,
   "id": "deff4795",
   "metadata": {},
   "outputs": [
    {
     "data": {
      "text/plain": [
       "'thon'"
      ]
     },
     "execution_count": 230,
     "metadata": {},
     "output_type": "execute_result"
    }
   ],
   "source": [
    "g[2::]"
   ]
  },
  {
   "cell_type": "code",
   "execution_count": 234,
   "id": "57bfa625",
   "metadata": {},
   "outputs": [
    {
     "data": {
      "text/plain": [
       "'Py'"
      ]
     },
     "execution_count": 234,
     "metadata": {},
     "output_type": "execute_result"
    }
   ],
   "source": [
    "g[:2:]"
   ]
  },
  {
   "cell_type": "markdown",
   "id": "9af0124f",
   "metadata": {},
   "source": [
    "##### Reverse indexing\n",
    "##### Reverse indexing starts from -1 from the end.\n",
    "##### P y t h o n\n",
    "##### -6 -5 -4 -3 -2 -1"
   ]
  },
  {
   "cell_type": "code",
   "execution_count": 242,
   "id": "515f73c2",
   "metadata": {},
   "outputs": [
    {
     "data": {
      "text/plain": [
       "'nohtyP'"
      ]
     },
     "execution_count": 242,
     "metadata": {},
     "output_type": "execute_result"
    }
   ],
   "source": [
    "g[-1:-7:-1]"
   ]
  },
  {
   "cell_type": "code",
   "execution_count": 243,
   "id": "88c30a98",
   "metadata": {},
   "outputs": [
    {
     "data": {
      "text/plain": [
       "'nohtyP'"
      ]
     },
     "execution_count": 243,
     "metadata": {},
     "output_type": "execute_result"
    }
   ],
   "source": [
    "g[::-1]"
   ]
  },
  {
   "cell_type": "markdown",
   "id": "16c2e148",
   "metadata": {},
   "source": [
    "## Lists\n",
    "##### Like in c++ we had arrays, in Python we have lists\n",
    "##### There are two type of lists\n",
    "##### 1.One dimensional list\n",
    "##### 2.Multidimensional list."
   ]
  },
  {
   "cell_type": "code",
   "execution_count": 246,
   "id": "5586cccf",
   "metadata": {},
   "outputs": [],
   "source": [
    "#1D list\n",
    "h=[1,2,3]"
   ]
  },
  {
   "cell_type": "code",
   "execution_count": 248,
   "id": "b9723bf9",
   "metadata": {},
   "outputs": [],
   "source": [
    "#3D list\n",
    "i = [[1,2,3],\n",
    "     [4,5,6],\n",
    "     [7,8,9]]"
   ]
  },
  {
   "cell_type": "markdown",
   "id": "5e0350db",
   "metadata": {},
   "source": [
    "##### Slicing in list is same as Strings"
   ]
  },
  {
   "cell_type": "code",
   "execution_count": 251,
   "id": "3e99705b",
   "metadata": {},
   "outputs": [
    {
     "data": {
      "text/plain": [
       "2"
      ]
     },
     "execution_count": 251,
     "metadata": {},
     "output_type": "execute_result"
    }
   ],
   "source": [
    "h[1]"
   ]
  },
  {
   "cell_type": "code",
   "execution_count": 261,
   "id": "15a94f28",
   "metadata": {},
   "outputs": [
    {
     "data": {
      "text/plain": [
       "[1, 2, 3]"
      ]
     },
     "execution_count": 261,
     "metadata": {},
     "output_type": "execute_result"
    }
   ],
   "source": [
    "i[0]"
   ]
  },
  {
   "cell_type": "code",
   "execution_count": null,
   "id": "4ba6da58",
   "metadata": {},
   "outputs": [],
   "source": []
  }
 ],
 "metadata": {
  "kernelspec": {
   "display_name": "Python 3",
   "language": "python",
   "name": "python3"
  },
  "language_info": {
   "codemirror_mode": {
    "name": "ipython",
    "version": 3
   },
   "file_extension": ".py",
   "mimetype": "text/x-python",
   "name": "python",
   "nbconvert_exporter": "python",
   "pygments_lexer": "ipython3",
   "version": "3.8.8"
  }
 },
 "nbformat": 4,
 "nbformat_minor": 5
}
